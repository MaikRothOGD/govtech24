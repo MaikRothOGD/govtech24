{
 "cells": [
  {
   "cell_type": "markdown",
   "metadata": {},
   "source": [
    "# Imports"
   ]
  },
  {
   "cell_type": "code",
   "execution_count": 16,
   "metadata": {},
   "outputs": [],
   "source": [
    "import os\n",
    "from anthropic import Anthropic\n",
    "from dotenv import load_dotenv\n",
    "import requests"
   ]
  },
  {
   "cell_type": "markdown",
   "metadata": {},
   "source": [
    "# Call Claude"
   ]
  },
  {
   "cell_type": "markdown",
   "metadata": {},
   "source": [
    "**Get tag list from CKAN API**"
   ]
  },
  {
   "cell_type": "code",
   "execution_count": 52,
   "metadata": {},
   "outputs": [],
   "source": [
    "url = \"https://ckan.opendata.swiss/api/3/action/tag_list\"\n",
    "response = requests.get(url)\n",
    "data = response.json()\n",
    "data = data[\"result\"]\n",
    "small_sample = data[:1000]"
   ]
  },
  {
   "cell_type": "markdown",
   "metadata": {},
   "source": [
    "**Create client and prompt. Call LLM.**"
   ]
  },
  {
   "cell_type": "code",
   "execution_count": 61,
   "metadata": {},
   "outputs": [],
   "source": [
    "load_dotenv()\n",
    "\n",
    "client = Anthropic(\n",
    "    api_key=os.environ.get(\"ANTHROPIC_API_KEY\"),\n",
    ")\n",
    "\n",
    "\n",
    "def call_claude(text):\n",
    "    message = client.messages.create(\n",
    "        max_tokens=1024,\n",
    "        messages=[\n",
    "            {\n",
    "                \"role\": \"user\",\n",
    "                \"content\": text,\n",
    "            }\n",
    "        ],\n",
    "        model=\"claude-instant-1.2\",\n",
    "        # model=\"claude-3-haiku-20240307\",\n",
    "    )\n",
    "    return message.content[0].text"
   ]
  },
  {
   "cell_type": "code",
   "execution_count": 65,
   "metadata": {},
   "outputs": [],
   "source": [
    "search_term = \"Kuh\"\n",
    "\n",
    "prompt = f\"\"\"\n",
    "I will provide you with a list many tags from the Swiss Open Data Portal. The tags are enclosed in tags <tag> and </tag> and are separated by a comma.\n",
    "\n",
    "I will also provide a search term in tags <search-term>. I would like you to find the 50 tags that are most similar to the search term.\n",
    "\n",
    "<tag>{\", \".join(data)}</tag>\n",
    "\n",
    "<search-term>{search_term}</search-term>\n",
    "\n",
    "Now, please find the tags that are most similar to the search term. List the relevant tags as a comma-separated list enclosed in tags <tags> and </tags>.\n",
    "\"\"\""
   ]
  },
  {
   "cell_type": "code",
   "execution_count": 66,
   "metadata": {},
   "outputs": [
    {
     "name": "stdout",
     "output_type": "stream",
     "text": [
      "['kuh', 'Kuh', 'kuhkalber', 'kuhmilch', 'kuhstall', 'kuhweide', 'rindfleisch', 'rindfleischkonsum', 'weidevieh', 'kuhhaltung', 'milchproduktion', 'milchwirtschaft', 'landwirtschaft', 'viehzucht', 'tierproduktion']\n"
     ]
    }
   ],
   "source": [
    "result = call_claude(prompt)\n",
    "result = result.replace(\"<tags>\", \"\").replace(\"</tags>\", \"\").split(\", \")\n",
    "result = [x.strip() for x in result]\n",
    "print(result)"
   ]
  }
 ],
 "metadata": {
  "kernelspec": {
   "display_name": "k1",
   "language": "python",
   "name": "python3"
  },
  "language_info": {
   "codemirror_mode": {
    "name": "ipython",
    "version": 3
   },
   "file_extension": ".py",
   "mimetype": "text/x-python",
   "name": "python",
   "nbconvert_exporter": "python",
   "pygments_lexer": "ipython3",
   "version": "3.8.15"
  }
 },
 "nbformat": 4,
 "nbformat_minor": 2
}
