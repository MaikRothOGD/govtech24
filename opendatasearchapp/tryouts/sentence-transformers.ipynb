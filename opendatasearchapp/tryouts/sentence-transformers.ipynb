{
 "cells": [
  {
   "cell_type": "markdown",
   "metadata": {},
   "source": [
    "# Imports"
   ]
  },
  {
   "cell_type": "code",
   "execution_count": 12,
   "metadata": {},
   "outputs": [],
   "source": [
    "from sentence_transformers import SentenceTransformer, util\n",
    "import requests\n",
    "import torch"
   ]
  },
  {
   "cell_type": "markdown",
   "metadata": {},
   "source": [
    "# Search for semantically close terms"
   ]
  },
  {
   "cell_type": "markdown",
   "metadata": {},
   "source": [
    "**Get tag list from CKAN API**"
   ]
  },
  {
   "cell_type": "code",
   "execution_count": 4,
   "metadata": {},
   "outputs": [],
   "source": [
    "url = \"https://ckan.opendata.swiss/api/3/action/tag_list\"\n",
    "response = requests.get(url)\n",
    "data = response.json()\n",
    "data = data[\"result\"]\n",
    "small_sample = data[:1000]"
   ]
  },
  {
   "cell_type": "markdown",
   "metadata": {},
   "source": [
    "**Embed all tags**"
   ]
  },
  {
   "cell_type": "code",
   "execution_count": 6,
   "metadata": {},
   "outputs": [],
   "source": [
    "model_path = \"sentence-transformers/paraphrase-multilingual-MiniLM-L12-v2\"\n",
    "model = SentenceTransformer(model_path)"
   ]
  },
  {
   "cell_type": "code",
   "execution_count": 8,
   "metadata": {},
   "outputs": [
    {
     "data": {
      "application/vnd.jupyter.widget-view+json": {
       "model_id": "813f726d238f47fca12c435362007779",
       "version_major": 2,
       "version_minor": 0
      },
      "text/plain": [
       "Batches:   0%|          | 0/249 [00:00<?, ?it/s]"
      ]
     },
     "metadata": {},
     "output_type": "display_data"
    }
   ],
   "source": [
    "embeddings = model.encode(\n",
    "    data, show_progress_bar=True, device=\"mps\", batch_size=32, normalize_embeddings=True\n",
    ")"
   ]
  },
  {
   "cell_type": "markdown",
   "metadata": {},
   "source": [
    "**Embed search term and find closest tags from list**"
   ]
  },
  {
   "cell_type": "code",
   "execution_count": 28,
   "metadata": {},
   "outputs": [
    {
     "data": {
      "application/vnd.jupyter.widget-view+json": {
       "model_id": "a66f3f145346477bb7588052494b2fa0",
       "version_major": 2,
       "version_minor": 0
      },
      "text/plain": [
       "Batches:   0%|          | 0/1 [00:00<?, ?it/s]"
      ]
     },
     "metadata": {},
     "output_type": "display_data"
    },
    {
     "name": "stdout",
     "output_type": "stream",
     "text": [
      "energy (Score: 1.0000)\n",
      "Energy (Score: 0.9991)\n",
      "Energie (Score: 0.9950)\n",
      "energia (Score: 0.9923)\n",
      "energie (Score: 0.9846)\n",
      "energiestatstik (Score: 0.9414)\n",
      "energiequellen (Score: 0.9387)\n",
      "energia-idrica (Score: 0.9231)\n",
      "energiequelle (Score: 0.9118)\n",
      "energieverbunde (Score: 0.9110)\n",
      "energiebilanz (Score: 0.9095)\n",
      "EnergieSchweiz (Score: 0.9083)\n",
      "energieeffizienz (Score: 0.9066)\n",
      "energie-atomique (Score: 0.8992)\n",
      "energie-warme (Score: 0.8965)\n",
      "energietraeger (Score: 0.8940)\n",
      "energiewirtschaft (Score: 0.8804)\n",
      "energie-strom (Score: 0.8745)\n",
      "energieproduktion (Score: 0.8737)\n",
      "energietrager (Score: 0.8736)\n",
      "Energiewende (Score: 0.8717)\n",
      "holzenergie (Score: 0.8710)\n",
      "energieverbrauch (Score: 0.8691)\n",
      "energieversorgung (Score: 0.8606)\n",
      "energiestatistik (Score: 0.8601)\n",
      "energiewende (Score: 0.8557)\n",
      "primaerenergie (Score: 0.8504)\n",
      "energieressourcen (Score: 0.8473)\n",
      "sonnenenergie (Score: 0.8454)\n",
      "energieplanung (Score: 0.8349)\n",
      "endenergie (Score: 0.8270)\n",
      "energy-promotion (Score: 0.8185)\n",
      "energy-statistics (Score: 0.8165)\n",
      "energieberatung (Score: 0.8114)\n",
      "primaerenergieverbrauch (Score: 0.7927)\n",
      "energieplankarte (Score: 0.7822)\n",
      "energy-transition (Score: 0.7818)\n",
      "Energiestadt (Score: 0.7742)\n",
      "energia-atomica (Score: 0.7739)\n",
      "tournant-energetique (Score: 0.7725)\n",
      "consommation-denergie (Score: 0.7723)\n",
      "energy-industry (Score: 0.7673)\n",
      "elettricita (Score: 0.7641)\n",
      "fernwarme-primarenergiefaktor (Score: 0.7595)\n",
      "energia-solare (Score: 0.7578)\n",
      "electricity (Score: 0.7540)\n",
      "energy-carrier (Score: 0.7525)\n",
      "bruttoenergieverbrauch (Score: 0.7500)\n",
      "endenergieverbrauch (Score: 0.7436)\n",
      "comptabilite-environnementale---energie (Score: 0.7403)\n"
     ]
    }
   ],
   "source": [
    "search_term = \"energy\"\n",
    "query_embedding = model.encode(search_term, show_progress_bar=True, device=\"mps\", normalize_embeddings=True)\n",
    "hits = util.semantic_search(query_embedding, embeddings, top_k=50)\n",
    "hits = hits[0]\n",
    "for hit in hits:\n",
    "    print(data[hit['corpus_id']], \"(Score: {:.4f})\".format(hit['score']))"
   ]
  },
  {
   "cell_type": "code",
   "execution_count": 18,
   "metadata": {},
   "outputs": [
    {
     "data": {
      "text/plain": [
       "7963"
      ]
     },
     "execution_count": 18,
     "metadata": {},
     "output_type": "execute_result"
    }
   ],
   "source": [
    "len(embeddinsegs)"
   ]
  },
  {
   "cell_type": "code",
   "execution_count": null,
   "metadata": {},
   "outputs": [],
   "source": []
  }
 ],
 "metadata": {
  "kernelspec": {
   "display_name": "k1",
   "language": "python",
   "name": "python3"
  },
  "language_info": {
   "codemirror_mode": {
    "name": "ipython",
    "version": 3
   },
   "file_extension": ".py",
   "mimetype": "text/x-python",
   "name": "python",
   "nbconvert_exporter": "python",
   "pygments_lexer": "ipython3",
   "version": "3.8.15"
  }
 },
 "nbformat": 4,
 "nbformat_minor": 2
}
